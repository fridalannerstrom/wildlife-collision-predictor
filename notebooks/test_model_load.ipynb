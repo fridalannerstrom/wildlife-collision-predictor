{
 "cells": [
  {
   "cell_type": "code",
   "execution_count": 1,
   "id": "be3ba328",
   "metadata": {},
   "outputs": [
    {
     "name": "stdout",
     "output_type": "stream",
     "text": [
      "❌ Kunde inte ladda modellen:\n",
      "STACK_GLOBAL requires str\n",
      "❌ Problem vid prediktion:\n",
      "name 'model' is not defined\n"
     ]
    }
   ],
   "source": [
    "import lzma\n",
    "import cloudpickle\n",
    "import pandas as pd\n",
    "\n",
    "# Sätt rätt sökväg\n",
    "model_path = \"../model/model.pkl.xz\"\n",
    "\n",
    "# Testa att ladda modellen\n",
    "try:\n",
    "    with lzma.open(model_path, \"rb\") as f:\n",
    "        model = cloudpickle.load(f)\n",
    "    print(\"✅ Modell laddad utan problem!\")\n",
    "except Exception as e:\n",
    "    print(\"❌ Kunde inte ladda modellen:\")\n",
    "    print(e)\n",
    "\n",
    "# Om modellen laddas korrekt, testa en dummy-prediktion\n",
    "try:\n",
    "    X_dummy = pd.DataFrame({\n",
    "        \"Year\": [2025],\n",
    "        \"Month\": [8],\n",
    "        \"Hour\": [13],\n",
    "        \"County\": [\"Värmlands län\"],\n",
    "        \"Municipality\": [\"Sunne\"],\n",
    "        \"Species\": [\"Moose\"],\n",
    "        \"Lat_WGS84\": [59.8],\n",
    "        \"Long_WGS84\": [13.2],\n",
    "        \"Day_of_Year\": [230],\n",
    "        \"Weekday\": [\"Monday\"],\n",
    "    })\n",
    "\n",
    "    if hasattr(model, \"predict_proba\"):\n",
    "        pred = model.predict_proba(X_dummy)\n",
    "    else:\n",
    "        pred = model.predict(X_dummy)\n",
    "\n",
    "    print(\"✅ Modell fungerar! Exempelprediktion:\")\n",
    "    print(pred)\n",
    "except Exception as e:\n",
    "    print(\"❌ Problem vid prediktion:\")\n",
    "    print(e)"
   ]
  }
 ],
 "metadata": {
  "kernelspec": {
   "display_name": "Python 3",
   "language": "python",
   "name": "python3"
  },
  "language_info": {
   "codemirror_mode": {
    "name": "ipython",
    "version": 3
   },
   "file_extension": ".py",
   "mimetype": "text/x-python",
   "name": "python",
   "nbconvert_exporter": "python",
   "pygments_lexer": "ipython3",
   "version": "3.12.8"
  }
 },
 "nbformat": 4,
 "nbformat_minor": 5
}
