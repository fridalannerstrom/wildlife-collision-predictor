{
 "cells": [
  {
   "cell_type": "code",
   "execution_count": 3,
   "id": "9cca450f",
   "metadata": {},
   "outputs": [],
   "source": [
    "import pandas as pd\n",
    "import glob\n",
    "\n",
    "# Läs in alla Excel-filer\n",
    "files = glob.glob('../data/original_excels/*.xlsx')\n",
    "\n",
    "dfs = []\n",
    "for file in files:\n",
    "    df = pd.read_excel(file)\n",
    "    df['Källa_fil'] = file  # valfritt: spåra vilken fil den kom från\n",
    "    dfs.append(df)\n",
    "\n",
    "# Slå ihop allt till en DataFrame\n",
    "all_data = pd.concat(dfs, ignore_index=True)"
   ]
  },
  {
   "cell_type": "code",
   "execution_count": null,
   "id": "de85543c",
   "metadata": {},
   "outputs": [],
   "source": [
    "all_data.info()\n",
    "all_data['Djurslag'].value_counts()\n",
    "all_data['Datum'] = pd.to_datetime(all_data['Datum'], errors='coerce')\n",
    "all_data['Månad'] = all_data['Datum'].dt.month\n",
    "all_data['Veckodag'] = all_data['Datum'].dt.day_name()\n"
   ]
  }
 ],
 "metadata": {
  "kernelspec": {
   "display_name": "Python 3",
   "language": "python",
   "name": "python3"
  },
  "language_info": {
   "codemirror_mode": {
    "name": "ipython",
    "version": 3
   },
   "file_extension": ".py",
   "mimetype": "text/x-python",
   "name": "python",
   "nbconvert_exporter": "python",
   "pygments_lexer": "ipython3",
   "version": "3.12.8"
  }
 },
 "nbformat": 4,
 "nbformat_minor": 5
}
