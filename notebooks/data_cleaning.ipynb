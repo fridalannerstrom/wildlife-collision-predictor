{
 "cells": [
  {
   "cell_type": "markdown",
   "id": "cfde502d",
   "metadata": {},
   "source": [
    "## 🧼 Wildlife Collision Data Cleaning Notebook\n",
    "\n",
    "Goal: Clean, structure and enrich the raw wildlife collision dataset for ML model training and analysis."
   ]
  },
  {
   "cell_type": "code",
   "execution_count": null,
   "id": "9cca450f",
   "metadata": {},
   "outputs": [],
   "source": [
    "# -------------------------------------\n",
    "#  1. Import libraries and load Excel files\n",
    "# -------------------------------------\n",
    "import pandas as pd\n",
    "import glob\n",
    "\n",
    "# Load all original Excel files (ignore header rows, mark source file)\n",
    "files = glob.glob(\"../data/original_excels/*.xlsx\")\n",
    "dfs = []\n",
    "for file in files:\n",
    "    df = pd.read_excel(file, skiprows=6)\n",
    "    df[\"Source_File\"] = file\n",
    "    dfs.append(df)\n",
    "\n",
    "# Combine all Excel sheets into one dataframe\n",
    "all_data = pd.concat(dfs, ignore_index=True)\n",
    "print(f\"✅ Loaded {len(all_data)} rows from {len(files)} files\")"
   ]
  },
  {
   "cell_type": "code",
   "execution_count": null,
   "id": "af091e9e",
   "metadata": {},
   "outputs": [],
   "source": [
    "all_data.to_csv('../data/raw_collision_data.csv', index=False)\n"
   ]
  },
  {
   "cell_type": "code",
   "execution_count": null,
   "id": "c7b93c81",
   "metadata": {},
   "outputs": [
    {
     "name": "stdout",
     "output_type": "stream",
     "text": [
      "['DjurId', 'OlycksId', 'Källa', 'Typ av olycka', 'Datum', 'Tid', 'År', 'Månad', 'Dag på året', 'Unnamed: 9', 'Unnamed: 10', 'Veckodag', 'Län', 'Unnamed: 13', 'Kommun', 'Viltslag', 'Lat WGS84', 'Long WGS84', 'Lat RT90', 'Long RT90', 'Kön', 'Årsunge', 'Vad har skett med viltet', 'Källa_fil']\n"
     ]
    }
   ],
   "source": [
    "print(all_data.columns.tolist())"
   ]
  },
  {
   "cell_type": "code",
   "execution_count": null,
   "id": "437ff984",
   "metadata": {},
   "outputs": [],
   "source": [
    "all_data.columns = (\n",
    "    all_data.columns\n",
    "    .str.strip()\n",
    "    .str.replace(\" \", \"_\")\n",
    "    .str.replace(\"å\", \"a\")\n",
    "    .str.replace(\"ä\", \"a\")\n",
    "    .str.replace(\"ö\", \"o\")\n",
    ")"
   ]
  },
  {
   "cell_type": "code",
   "execution_count": null,
   "id": "de85543c",
   "metadata": {},
   "outputs": [
    {
     "name": "stdout",
     "output_type": "stream",
     "text": [
      "<class 'pandas.core.frame.DataFrame'>\n",
      "RangeIndex: 635851 entries, 0 to 635850\n",
      "Data columns (total 24 columns):\n",
      " #   Column                    Non-Null Count   Dtype         \n",
      "---  ------                    --------------   -----         \n",
      " 0   DjurId                    242322 non-null  float64       \n",
      " 1   OlycksId                  242322 non-null  float64       \n",
      " 2   Kalla                     635851 non-null  object        \n",
      " 3   Typ_av_olycka             635851 non-null  object        \n",
      " 4   Datum                     635851 non-null  datetime64[ns]\n",
      " 5   Tid                       635851 non-null  datetime64[ns]\n",
      " 6   År                        635851 non-null  int64         \n",
      " 7   Manad                     635851 non-null  int32         \n",
      " 8   Dag_pa_aret               635851 non-null  int64         \n",
      " 9   Unnamed:_9                0 non-null       float64       \n",
      " 10  Unnamed:_10               0 non-null       float64       \n",
      " 11  Veckodag                  635851 non-null  object        \n",
      " 12  Lan                       635851 non-null  object        \n",
      " 13  Unnamed:_13               0 non-null       float64       \n",
      " 14  Kommun                    635851 non-null  object        \n",
      " 15  Viltslag                  635851 non-null  object        \n",
      " 16  Lat_WGS84                 635851 non-null  float64       \n",
      " 17  Long_WGS84                635851 non-null  float64       \n",
      " 18  Lat_RT90                  635851 non-null  float64       \n",
      " 19  Long_RT90                 635851 non-null  float64       \n",
      " 20  Kon                       635851 non-null  object        \n",
      " 21  Årsunge                   635851 non-null  object        \n",
      " 22  Vad_har_skett_med_viltet  635851 non-null  object        \n",
      " 23  Kalla_fil                 635851 non-null  object        \n",
      "dtypes: datetime64[ns](2), float64(9), int32(1), int64(2), object(10)\n",
      "memory usage: 114.0+ MB\n"
     ]
    }
   ],
   "source": [
    "all_data.info()\n",
    "all_data['Viltslag'].value_counts()\n",
    "all_data['Datum'] = pd.to_datetime(all_data['Datum'], errors='coerce')\n",
    "all_data['Månad'] = all_data['Datum'].dt.month\n",
    "all_data['Veckodag'] = all_data['Datum'].dt.day_name()\n"
   ]
  },
  {
   "cell_type": "code",
   "execution_count": null,
   "id": "9cf22ca6",
   "metadata": {},
   "outputs": [],
   "source": [
    "cols_to_drop = ['Unnamed:_9', 'Unnamed:_10', 'Unnamed:_13', 'Kalla_fil']\n",
    "\n",
    "for col in cols_to_drop:\n",
    "    if col in all_data.columns:\n",
    "        all_data = all_data.drop(columns=[col])"
   ]
  },
  {
   "cell_type": "code",
   "execution_count": null,
   "id": "b4eaac59",
   "metadata": {},
   "outputs": [
    {
     "name": "stdout",
     "output_type": "stream",
     "text": [
      "['DjurId', 'OlycksId', 'Kalla', 'Typ_av_olycka', 'Datum', 'Tid', 'År', 'Manad', 'Dag_pa_aret', 'Veckodag', 'Lan', 'Kommun', 'Viltslag', 'Lat_WGS84', 'Long_WGS84', 'Lat_RT90', 'Long_RT90', 'Kon', 'Årsunge', 'Vad_har_skett_med_viltet', 'Månad']\n"
     ]
    }
   ],
   "source": [
    "print(all_data.columns.tolist())\n"
   ]
  },
  {
   "cell_type": "code",
   "execution_count": null,
   "id": "5212f478",
   "metadata": {},
   "outputs": [
    {
     "data": {
      "image/png": "[encoded data removed]",
      "text/plain": [
       "<Figure size 1000x500 with 1 Axes>"
      ]
     },
     "metadata": {},
     "output_type": "display_data"
    }
   ],
   "source": [
    "import seaborn as sns\n",
    "import matplotlib.pyplot as plt\n",
    "\n",
    "# Filtrera bara på älg (eller byt till annat djur)\n",
    "df_alg = all_data[all_data['Viltslag'] == 'Älg']\n",
    "\n",
    "# Gruppa per månad\n",
    "monthly_counts = df_alg['Manad'].value_counts().sort_index()\n",
    "\n",
    "# Plot\n",
    "plt.figure(figsize=(10, 5))\n",
    "sns.barplot(x=monthly_counts.index, y=monthly_counts.values)\n",
    "plt.title('Number of Moose Collisions per Month')\n",
    "plt.xlabel('Month')\n",
    "plt.ylabel('Number of Collisions')\n",
    "plt.show()"
   ]
  },
  {
   "cell_type": "code",
   "execution_count": null,
   "id": "8b0aa52a",
   "metadata": {},
   "outputs": [],
   "source": [
    "all_data.to_csv('../data/cleaned_data.csv', index=False)\n"
   ]
  },
  {
   "cell_type": "markdown",
   "id": "83d43a76",
   "metadata": {},
   "source": [
    "## 🧼 Wildlife Collision Data Cleaning Notebook\n",
    "\n",
    "Goal: Clean, structure and enrich the raw wildlife collision dataset for ML model training and analysis."
   ]
  },
  {
   "cell_type": "code",
   "execution_count": 1,
   "id": "119194e5",
   "metadata": {},
   "outputs": [
    {
     "name": "stdout",
     "output_type": "stream",
     "text": [
      "✅ Rensad och sparad som cleaned_data.csv\n"
     ]
    }
   ],
   "source": [
    "import pandas as pd\n",
    "\n",
    "# 1. Läs in cleaned_data\n",
    "df = pd.read_csv(\"../data/cleaned_data.csv\")\n",
    "\n",
    "# 2. Kolumner att ta bort\n",
    "cols_to_drop = ['Date', 'Year', 'Month', 'Day_of_Year', 'Weekday']\n",
    "df = df.drop(columns=cols_to_drop, errors='ignore')\n",
    "\n",
    "# 3. Spara tillbaka till samma plats\n",
    "df.to_csv(\"../data/cleaned_data.csv\", index=False)\n",
    "\n",
    "print(\"✅ Rensad och sparad som cleaned_data.csv\")"
   ]
  },
  {
   "cell_type": "code",
   "execution_count": 23,
   "id": "2aba81ab",
   "metadata": {},
   "outputs": [],
   "source": [
    "species_translation = {\n",
    "    \"Älg\": \"Moose\",\n",
    "    \"Rådjur\": \"Roe Deer\",\n",
    "    \"Vildsvin\": \"Wild Boar\",\n",
    "    \"Dovhjort\": \"Fallow Deer\",\n",
    "    \"Kronhjort\": \"Red Deer\",\n",
    "    \"Björn\": \"Brown Bear\",\n",
    "    \"Lodjur\": \"Lynx\",\n",
    "    \"Järv\": \"Wolverine\",\n",
    "    \"Övriga djur\": \"Other\",\n",
    "    \"Okänt\": \"Unknown\"\n",
    "}\n",
    "\n",
    "sex_translation = {\n",
    "    \"Hane\": \"Male\",\n",
    "    \"Hona\": \"Female\",\n",
    "    \"Okänt\": \"Unknown\"\n",
    "}\n",
    "\n",
    "juvenile_translation = {\n",
    "    \"Ja\": \"Yes\",\n",
    "    \"Nej\": \"No\",\n",
    "    \"Okänt\": \"Unknown\"\n",
    "}\n",
    "\n",
    "fate_translation = {\n",
    "    \"Avlivat\": \"Euthanized\",\n",
    "    \"Dött på olycksplatsen\": \"Dead at crash site\",\n",
    "    \"Ej påträffat\": \"Not found\",\n",
    "    \"Bedöms oskadat\": \"Assumed unharmed\",\n",
    "    \"Påträffat dött\": \"Found dead\",\n",
    "    \"Okänt\": \"Unknown\"\n",
    "}\n",
    "\n",
    "all_data[\"Species\"] = all_data[\"Viltslag\"].map(species_translation)\n",
    "all_data[\"Sex\"] = all_data[\"Kon\"].map(sex_translation)\n",
    "all_data[\"Juvenile\"] = all_data[\"Årsunge\"].map(juvenile_translation)\n",
    "all_data[\"Animal_Outcome\"] = all_data[\"Vad_har_skett_med_viltet\"].map(fate_translation)\n",
    "\n",
    "all_data = all_data.drop(columns=[\"Viltslag\", \"Kon\", \"Årsunge\", \"Vad_har_skett_med_viltet\"])\n",
    "\n",
    "all_data.to_csv(\"../data/cleaned_data.csv\", index=False)"
   ]
  },
  {
   "cell_type": "code",
   "execution_count": 25,
   "id": "f66a26e5",
   "metadata": {},
   "outputs": [],
   "source": [
    "column_rename = {\n",
    "    \"DjurId\": \"Animal_ID\",\n",
    "    \"OlycksId\": \"Collision_ID\",\n",
    "    \"Kalla\": \"Source\",\n",
    "    \"Typ_av_olycka\": \"Type_of_Collision\",\n",
    "    \"Datum\": \"Date\",\n",
    "    \"Tid\": \"Time\",\n",
    "    \"Ar\": \"Year\",\n",
    "    \"Manad\": \"Month\",\n",
    "    \"Dag_pa_aret\": \"Day_of_Year\",\n",
    "    \"Veckodag\": \"Weekday\",\n",
    "    \"Lan\": \"County\",\n",
    "    \"Kommun\": \"Municipality\",\n",
    "    \"Lat_WGS84\": \"Lat_WGS84\",\n",
    "    \"Long_WGS84\": \"Lon_WGS84\",\n",
    "    \"Lat_RT90\": \"Lat_RT90\",\n",
    "    \"Long_RT90\": \"Lon_RT90\",\n",
    "    \"Species\": \"Species\",  # Already English\n",
    "    \"Sex\": \"Sex\",\n",
    "    \"Juvenile\": \"Juvenile\",\n",
    "    \"Animal_Outcome\": \"Animal_Outcome\"\n",
    "}\n",
    "\n",
    "# 2. Värdeöversättningar (för källor och olyckstyper)\n",
    "source_translation = {\n",
    "    \"Jägarrapporterad olycka (viltolycka.se)\": \"Hunter-reported collision (viltolycka.se)\",\n",
    "    \"Polisrapporterad olycka (viltolycka.se)\": \"Police-reported collision (viltolycka.se)\",\n",
    "}\n",
    "\n",
    "collision_type_translation = {\n",
    "    \"Väg\": \"Road\",\n",
    "    \"Järnväg\": \"Railway\"\n",
    "}\n",
    "\n",
    "# 3. Använd översättningarna\n",
    "all_data = all_data.rename(columns=column_rename)\n",
    "\n",
    "all_data[\"Source\"] = all_data[\"Source\"].map(source_translation).fillna(all_data[\"Source\"])\n",
    "all_data[\"Type_of_Collision\"] = all_data[\"Type_of_Collision\"].map(collision_type_translation).fillna(all_data[\"Type_of_Collision\"])"
   ]
  }
 ],
 "metadata": {
  "kernelspec": {
   "display_name": "Python 3",
   "language": "python",
   "name": "python3"
  },
  "language_info": {
   "codemirror_mode": {
    "name": "ipython",
    "version": 3
   },
   "file_extension": ".py",
   "mimetype": "text/x-python",
   "name": "python",
   "nbconvert_exporter": "python",
   "pygments_lexer": "ipython3",
   "version": "3.12.8"
  }
 },
 "nbformat": 4,
 "nbformat_minor": 5
}
