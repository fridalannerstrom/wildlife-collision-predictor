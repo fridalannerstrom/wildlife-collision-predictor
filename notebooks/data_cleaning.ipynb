{
 "cells": [
  {
   "cell_type": "code",
   "execution_count": null,
   "id": "9cca450f",
   "metadata": {},
   "outputs": [],
   "source": [
    "import pandas as pd\n",
    "import glob\n",
    "\n",
    "files = glob.glob('../data/original_excels/*.xlsx')\n",
    "\n",
    "dfs = []\n",
    "for file in files:\n",
    "    df = pd.read_excel(file, skiprows=6)\n",
    "    df['Källa_fil'] = file  \n",
    "    dfs.append(df)\n",
    "\n",
    "all_data = pd.concat(dfs, ignore_index=True)"
   ]
  },
  {
   "cell_type": "code",
   "execution_count": 5,
   "id": "af091e9e",
   "metadata": {},
   "outputs": [],
   "source": [
    "all_data.to_csv('../data/raw_collision_data.csv', index=False)\n"
   ]
  },
  {
   "cell_type": "code",
   "execution_count": 8,
   "id": "c7b93c81",
   "metadata": {},
   "outputs": [
    {
     "name": "stdout",
     "output_type": "stream",
     "text": [
      "['DjurId', 'OlycksId', 'Källa', 'Typ av olycka', 'Datum', 'Tid', 'År', 'Månad', 'Dag på året', 'Unnamed: 9', 'Unnamed: 10', 'Veckodag', 'Län', 'Unnamed: 13', 'Kommun', 'Viltslag', 'Lat WGS84', 'Long WGS84', 'Lat RT90', 'Long RT90', 'Kön', 'Årsunge', 'Vad har skett med viltet', 'Källa_fil']\n"
     ]
    }
   ],
   "source": [
    "print(all_data.columns.tolist())"
   ]
  },
  {
   "cell_type": "code",
   "execution_count": 10,
   "id": "437ff984",
   "metadata": {},
   "outputs": [],
   "source": [
    "all_data.columns = (\n",
    "    all_data.columns\n",
    "    .str.strip()\n",
    "    .str.replace(\" \", \"_\")\n",
    "    .str.replace(\"å\", \"a\")\n",
    "    .str.replace(\"ä\", \"a\")\n",
    "    .str.replace(\"ö\", \"o\")\n",
    ")"
   ]
  },
  {
   "cell_type": "code",
   "execution_count": 11,
   "id": "de85543c",
   "metadata": {},
   "outputs": [
    {
     "name": "stdout",
     "output_type": "stream",
     "text": [
      "<class 'pandas.core.frame.DataFrame'>\n",
      "RangeIndex: 635851 entries, 0 to 635850\n",
      "Data columns (total 24 columns):\n",
      " #   Column                    Non-Null Count   Dtype         \n",
      "---  ------                    --------------   -----         \n",
      " 0   DjurId                    242322 non-null  float64       \n",
      " 1   OlycksId                  242322 non-null  float64       \n",
      " 2   Kalla                     635851 non-null  object        \n",
      " 3   Typ_av_olycka             635851 non-null  object        \n",
      " 4   Datum                     635851 non-null  datetime64[ns]\n",
      " 5   Tid                       635851 non-null  datetime64[ns]\n",
      " 6   År                        635851 non-null  int64         \n",
      " 7   Manad                     635851 non-null  int32         \n",
      " 8   Dag_pa_aret               635851 non-null  int64         \n",
      " 9   Unnamed:_9                0 non-null       float64       \n",
      " 10  Unnamed:_10               0 non-null       float64       \n",
      " 11  Veckodag                  635851 non-null  object        \n",
      " 12  Lan                       635851 non-null  object        \n",
      " 13  Unnamed:_13               0 non-null       float64       \n",
      " 14  Kommun                    635851 non-null  object        \n",
      " 15  Viltslag                  635851 non-null  object        \n",
      " 16  Lat_WGS84                 635851 non-null  float64       \n",
      " 17  Long_WGS84                635851 non-null  float64       \n",
      " 18  Lat_RT90                  635851 non-null  float64       \n",
      " 19  Long_RT90                 635851 non-null  float64       \n",
      " 20  Kon                       635851 non-null  object        \n",
      " 21  Årsunge                   635851 non-null  object        \n",
      " 22  Vad_har_skett_med_viltet  635851 non-null  object        \n",
      " 23  Kalla_fil                 635851 non-null  object        \n",
      "dtypes: datetime64[ns](2), float64(9), int32(1), int64(2), object(10)\n",
      "memory usage: 114.0+ MB\n"
     ]
    }
   ],
   "source": [
    "all_data.info()\n",
    "all_data['Viltslag'].value_counts()\n",
    "all_data['Datum'] = pd.to_datetime(all_data['Datum'], errors='coerce')\n",
    "all_data['Månad'] = all_data['Datum'].dt.month\n",
    "all_data['Veckodag'] = all_data['Datum'].dt.day_name()\n"
   ]
  },
  {
   "cell_type": "code",
   "execution_count": 18,
   "id": "9cf22ca6",
   "metadata": {},
   "outputs": [],
   "source": [
    "cols_to_drop = ['Unnamed:_9', 'Unnamed:_10', 'Unnamed:_13', 'Kalla_fil']\n",
    "\n",
    "for col in cols_to_drop:\n",
    "    if col in all_data.columns:\n",
    "        all_data = all_data.drop(columns=[col])"
   ]
  },
  {
   "cell_type": "code",
   "execution_count": 19,
   "id": "b4eaac59",
   "metadata": {},
   "outputs": [
    {
     "name": "stdout",
     "output_type": "stream",
     "text": [
      "['DjurId', 'OlycksId', 'Kalla', 'Typ_av_olycka', 'Datum', 'Tid', 'År', 'Manad', 'Dag_pa_aret', 'Veckodag', 'Lan', 'Kommun', 'Viltslag', 'Lat_WGS84', 'Long_WGS84', 'Lat_RT90', 'Long_RT90', 'Kon', 'Årsunge', 'Vad_har_skett_med_viltet', 'Månad']\n"
     ]
    }
   ],
   "source": [
    "print(all_data.columns.tolist())\n"
   ]
  }
 ],
 "metadata": {
  "kernelspec": {
   "display_name": "Python 3",
   "language": "python",
   "name": "python3"
  },
  "language_info": {
   "codemirror_mode": {
    "name": "ipython",
    "version": 3
   },
   "file_extension": ".py",
   "mimetype": "text/x-python",
   "name": "python",
   "nbconvert_exporter": "python",
   "pygments_lexer": "ipython3",
   "version": "3.12.8"
  }
 },
 "nbformat": 4,
 "nbformat_minor": 5
}
