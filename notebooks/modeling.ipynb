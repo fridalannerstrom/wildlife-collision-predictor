{
 "cells": [
  {
   "cell_type": "code",
   "execution_count": 14,
   "id": "fdfd6b67",
   "metadata": {},
   "outputs": [],
   "source": [
    "# ----------------------------------------\n",
    "# 1. Import necessary libraries for modeling\n",
    "# ----------------------------------------\n",
    "import pandas as pd\n",
    "import numpy as np\n",
    "import os\n",
    "from sklearn.model_selection import train_test_split, GridSearchCV\n",
    "from sklearn.ensemble import RandomForestClassifier\n",
    "from sklearn.preprocessing import OneHotEncoder, StandardScaler\n",
    "from sklearn.compose import ColumnTransformer\n",
    "from sklearn.pipeline import Pipeline\n",
    "from sklearn.metrics import classification_report, ConfusionMatrixDisplay\n",
    "import matplotlib.pyplot as plt\n",
    "import joblib\n",
    "import pickle\n",
    "import lzma"
   ]
  },
  {
   "cell_type": "code",
   "execution_count": null,
   "id": "0a0bdb1e",
   "metadata": {},
   "outputs": [],
   "source": [
    "# ----------------------------------------\n",
    "# 2. Load the cleaned dataset and prepare features\n",
    "# ----------------------------------------\n",
    "\n",
    "# Load dataset\n",
    "df = pd.read_csv(\"../data/cleaned_data_v2.csv\")\n",
    "\n",
    "# Convert time column to datetime and extract useful time features\n",
    "df[\"Time\"] = pd.to_datetime(df[\"Time\"], errors=\"coerce\")\n",
    "df[\"Hour\"] = df[\"Time\"].dt.hour\n",
    "df[\"Weekday\"] = df[\"Time\"].dt.day_name()\n",
    "df[\"Year\"] = df[\"Time\"].dt.year\n",
    "df[\"Day_of_Year\"] = df[\"Time\"].dt.dayofyear\n",
    "\n",
    "# Rename some columns to English\n",
    "df.rename(columns={\n",
    "    \"Månad\": \"Month\",\n",
    "    \"Län\": \"County\",\n",
    "    \"Kommun\": \"Municipality\",\n",
    "    \"Art\": \"Species\"\n",
    "}, inplace=True)\n",
    "\n",
    "# Drop rows with missing important values\n",
    "df = df.dropna(subset=[\"County\", \"Species\", \"Weekday\", \"Hour\", \"Month\", \"Lat_WGS84\", \"Long_WGS84\"])\n",
    "\n",
    "# Create a target variable: number of collisions in each group\n",
    "df[\"n_collisions\"] = df.groupby([\"County\", \"Species\", \"Month\", \"Hour\"])[\"Time\"].transform(\"count\")\n",
    "\n",
    "# Bin the collision counts into 5 risk categories\n",
    "df[\"risk_label\"] = pd.qcut(df[\"n_collisions\"], 5, labels=[\"Very Low\", \"Low\", \"Moderate\", \"High\", \"Very High\"])\n",
    "\n",
    "# Define features to use in the model\n",
    "features = [\n",
    "    \"Year\", \"Month\", \"Hour\", \"Weekday\", \"County\",\n",
    "    \"Species\", \"Municipality\", \"Day_of_Year\", \"Lat_WGS84\", \"Long_WGS84\"\n",
    "]\n",
    "\n",
    "# Define input features and target\n",
    "X = df[features].copy()\n",
    "y = df[\"risk_label\"]"
   ]
  },
  {
   "cell_type": "code",
   "execution_count": 16,
   "id": "dba54f8d",
   "metadata": {},
   "outputs": [],
   "source": [
    "# ----------------------------------------\n",
    "# 3. Split dataset into training and testing sets\n",
    "# ----------------------------------------\n",
    "\n",
    "X_train, X_test, y_train, y_test = train_test_split(X, y, stratify=y, random_state=42)"
   ]
  },
  {
   "cell_type": "code",
   "execution_count": 17,
   "id": "5a257886",
   "metadata": {},
   "outputs": [],
   "source": [
    "# ----------------------------------------\n",
    "# 4. Set up preprocessing for numerical and categorical features\n",
    "# ----------------------------------------\n",
    "\n",
    "num_features = [\"Month\", \"Hour\", \"Day_of_Year\", \"Lat_WGS84\", \"Long_WGS84\"]\n",
    "cat_features = [\"Weekday\", \"County\", \"Species\", \"Municipality\"]\n",
    "\n",
    "preprocessor = ColumnTransformer([\n",
    "    (\"num\", StandardScaler(), num_features),\n",
    "    (\"cat\", OneHotEncoder(handle_unknown=\"ignore\"), cat_features)\n",
    "])"
   ]
  },
  {
   "cell_type": "code",
   "execution_count": 18,
   "id": "2434a2e8",
   "metadata": {},
   "outputs": [
    {
     "name": "stdout",
     "output_type": "stream",
     "text": [
      "Fitting 3 folds for each of 48 candidates, totalling 144 fits\n",
      "Best params: {'clf__max_depth': None, 'clf__max_features': 'sqrt', 'clf__min_samples_leaf': 1, 'clf__min_samples_split': 5, 'clf__n_estimators': 200}\n"
     ]
    }
   ],
   "source": [
    "# ----------------------------------------\n",
    "# 5. Create model pipeline and perform GridSearchCV\n",
    "# ----------------------------------------\n",
    "\n",
    "pipe = Pipeline([\n",
    "    (\"pre\", preprocessor),\n",
    "    (\"clf\", RandomForestClassifier(random_state=42))\n",
    "])\n",
    "\n",
    "# Define parameter grid for hyperparameter tuning\n",
    "param_grid = {\n",
    "    \"clf__n_estimators\": [100, 200],\n",
    "    \"clf__max_depth\": [10, 20, None],\n",
    "    \"clf__min_samples_split\": [2, 5],\n",
    "    \"clf__min_samples_leaf\": [1, 2],\n",
    "    \"clf__max_features\": [\"sqrt\", \"log2\"]\n",
    "}\n",
    "\n",
    "# Perform grid search with cross-validation\n",
    "grid = GridSearchCV(pipe, param_grid, cv=3, n_jobs=-1, verbose=1)\n",
    "grid.fit(X_train, y_train)\n",
    "\n",
    "# Print the best parameters found\n",
    "print(\"Best params:\", grid.best_params_)"
   ]
  },
  {
   "cell_type": "code",
   "execution_count": 19,
   "id": "1624bcfa",
   "metadata": {},
   "outputs": [
    {
     "name": "stdout",
     "output_type": "stream",
     "text": [
      "              precision    recall  f1-score   support\n",
      "\n",
      "        High       0.79      0.83      0.81      5508\n",
      "         Low       0.73      0.65      0.69      5283\n",
      "    Moderate       0.77      0.77      0.77      5995\n",
      "   Very High       0.87      0.95      0.91      5684\n",
      "    Very Low       0.85      0.83      0.84      6226\n",
      "\n",
      "    accuracy                           0.81     28696\n",
      "   macro avg       0.80      0.81      0.80     28696\n",
      "weighted avg       0.81      0.81      0.81     28696\n",
      "\n"
     ]
    },
    {
     "data": {
      "image/png": "[encoded data removed]",
      "text/plain": [
       "<Figure size 640x480 with 2 Axes>"
      ]
     },
     "metadata": {},
     "output_type": "display_data"
    }
   ],
   "source": [
    "# ----------------------------------------\n",
    "# 6. Evaluate the model on the test set\n",
    "# ----------------------------------------\n",
    "\n",
    "y_pred = grid.predict(X_test)\n",
    "print(classification_report(y_test, y_pred))\n",
    "ConfusionMatrixDisplay.from_estimator(grid, X_test, y_test)\n",
    "plt.show()"
   ]
  },
  {
   "cell_type": "code",
   "execution_count": 20,
   "id": "c5c7a85d",
   "metadata": {},
   "outputs": [
    {
     "name": "stdout",
     "output_type": "stream",
     "text": [
      "✅ Compressed model and columns saved.\n"
     ]
    }
   ],
   "source": [
    "# ----------------------------------------\n",
    "# 7. Save the trained model and encoded feature names (compressed)\n",
    "# ----------------------------------------\n",
    "\n",
    "model = grid.best_estimator_\n",
    "\n",
    "with lzma.open(\"model/model.pkl.xz\", \"wb\") as f:\n",
    "    joblib.dump(model, f)\n",
    "\n",
    "feat_names = model.named_steps[\"pre\"].get_feature_names_out()\n",
    "with open(\"model/model_columns.pkl\", \"wb\") as f:\n",
    "    pickle.dump(feat_names.tolist(), f)\n",
    "\n",
    "print(\"✅ Compressed model and columns saved.\")"
   ]
  }
 ],
 "metadata": {
  "kernelspec": {
   "display_name": "Python 3",
   "language": "python",
   "name": "python3"
  },
  "language_info": {
   "codemirror_mode": {
    "name": "ipython",
    "version": 3
   },
   "file_extension": ".py",
   "mimetype": "text/x-python",
   "name": "python",
   "nbconvert_exporter": "python",
   "pygments_lexer": "ipython3",
   "version": "3.12.8"
  }
 },
 "nbformat": 4,
 "nbformat_minor": 5
}
