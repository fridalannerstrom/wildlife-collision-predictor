{
 "cells": [
  {
   "cell_type": "code",
   "execution_count": 2,
   "id": "c3fb7e2d",
   "metadata": {},
   "outputs": [
    {
     "name": "stdout",
     "output_type": "stream",
     "text": [
      "✅ Klar: model.pkl.xz skapad\n"
     ]
    }
   ],
   "source": [
    "import lzma\n",
    "\n",
    "# Läs in den befintliga pickle-filen\n",
    "with open(\"../model/model.pkl\", \"rb\") as f_in:\n",
    "    model_data = f_in.read()\n",
    "\n",
    "# Spara den som komprimerad .xz\n",
    "with lzma.open(\"../model/model.pkl.xz\", \"wb\") as f_out:\n",
    "    f_out.write(model_data)\n",
    "\n",
    "print(\"✅ Klar: model.pkl.xz skapad\")"
   ]
  }
 ],
 "metadata": {
  "kernelspec": {
   "display_name": "Python 3",
   "language": "python",
   "name": "python3"
  },
  "language_info": {
   "codemirror_mode": {
    "name": "ipython",
    "version": 3
   },
   "file_extension": ".py",
   "mimetype": "text/x-python",
   "name": "python",
   "nbconvert_exporter": "python",
   "pygments_lexer": "ipython3",
   "version": "3.12.8"
  }
 },
 "nbformat": 4,
 "nbformat_minor": 5
}
